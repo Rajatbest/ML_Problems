{
 "cells": [
  {
   "cell_type": "code",
   "execution_count": 2,
   "metadata": {},
   "outputs": [],
   "source": [
    "import numpy as np\n",
    "import matplotlib.pyplot as plt\n",
    "import pandas as pd\n",
    "from sklearn.linear_model import LogisticRegression"
   ]
  },
  {
   "cell_type": "code",
   "execution_count": 3,
   "metadata": {},
   "outputs": [],
   "source": [
    "x1 = np.array([0.4,1,1.7,2.1,2.8,3.2,3.9,4.6,5.0,5.8])\n",
    "y1 = np.array([0,0,0,0,0,0,0,0,0,0])"
   ]
  },
  {
   "cell_type": "code",
   "execution_count": 4,
   "metadata": {},
   "outputs": [],
   "source": [
    "x2 = np.array([3.5,4.1,4.9,5.5,5.9,6,6.7,7.3,7.9,8.2])\n",
    "y2 = np.array([1,1,1,1,1,1,1,1,1,1])"
   ]
  },
  {
   "cell_type": "code",
   "execution_count": 5,
   "metadata": {},
   "outputs": [],
   "source": [
    "x = np.array([[0.4],[1],[1.7],[2.1],[2.8],[3.2],[3.9],[4.6],[5.0],[5.8],[3.5],[4.1],[4.9],[5.5],[5.9],[6],[6.7],[7.3],[7.9],[8.2]])\n",
    "y = np.array([0,0,0,0,0,0,0,0,0,0,1,1,1,1,1,1,1,1,1,1])"
   ]
  },
  {
   "cell_type": "code",
   "execution_count": 6,
   "metadata": {},
   "outputs": [
    {
     "data": {
      "image/png": "[encoded data removed]",
      "text/plain": [
       "<matplotlib.figure.Figure at 0x14f72d0abe0>"
      ]
     },
     "metadata": {},
     "output_type": "display_data"
    }
   ],
   "source": [
    "plt.plot(x1, y1, 'ro', color='red')\n",
    "plt.plot(x2, y2, 'ro', color='blue')\n",
    "\n",
    "plt.axis([-2,10,-0.5,2])\n",
    "plt.show()"
   ]
  },
  {
   "cell_type": "code",
   "execution_count": 7,
   "metadata": {},
   "outputs": [
    {
     "data": {
      "text/plain": [
       "LogisticRegression(C=1.0, class_weight=None, dual=False, fit_intercept=True,\n",
       "          intercept_scaling=1, max_iter=100, multi_class='ovr', n_jobs=1,\n",
       "          penalty='l2', random_state=None, solver='liblinear', tol=0.0001,\n",
       "          verbose=0, warm_start=False)"
      ]
     },
     "execution_count": 7,
     "metadata": {},
     "output_type": "execute_result"
    }
   ],
   "source": [
    "logit = LogisticRegression()\n",
    "logit.fit(x,y)"
   ]
  },
  {
   "cell_type": "code",
   "execution_count": 8,
   "metadata": {},
   "outputs": [],
   "source": [
    "def model(logit, x):\n",
    "    return 1 / (1 + np.exp(-(logit.intercept_ + logit.coef_ * x)))"
   ]
  },
  {
   "cell_type": "code",
   "execution_count": 9,
   "metadata": {},
   "outputs": [
    {
     "name": "stdout",
     "output_type": "stream",
     "text": [
      "-1.9\n",
      "-1.8\n",
      "-1.7\n",
      "-1.6\n",
      "-1.5\n",
      "-1.4\n",
      "-1.3\n",
      "-1.2\n",
      "-1.1\n",
      "-1.0\n",
      "-0.8999999999999999\n",
      "-0.8\n",
      "-0.7\n",
      "-0.6000000000000001\n",
      "-0.5\n",
      "-0.3999999999999999\n",
      "-0.30000000000000004\n",
      "-0.19999999999999996\n",
      "-0.10000000000000009\n",
      "0.0\n",
      "0.10000000000000009\n",
      "0.20000000000000018\n",
      "0.2999999999999998\n",
      "0.3999999999999999\n",
      "0.5\n",
      "0.6000000000000001\n",
      "0.7000000000000002\n",
      "0.7999999999999998\n",
      "0.8999999999999999\n",
      "1.0\n",
      "1.1\n",
      "1.2000000000000002\n",
      "1.2999999999999998\n",
      "1.4\n",
      "1.5\n",
      "1.6\n",
      "1.7000000000000002\n",
      "1.7999999999999998\n",
      "1.9\n",
      "2.0\n",
      "2.0999999999999996\n",
      "2.2\n",
      "2.3\n",
      "2.4000000000000004\n",
      "2.5\n",
      "2.5999999999999996\n",
      "2.7\n",
      "2.8\n",
      "2.9000000000000004\n",
      "3.0\n",
      "3.0999999999999996\n",
      "3.2\n",
      "3.3\n",
      "3.4000000000000004\n",
      "3.5\n",
      "3.5999999999999996\n",
      "3.7\n",
      "3.8\n",
      "3.9000000000000004\n",
      "4.0\n",
      "4.1\n",
      "4.2\n",
      "4.3\n",
      "4.4\n",
      "4.5\n",
      "4.6\n",
      "4.7\n",
      "4.8\n",
      "4.9\n",
      "5.0\n",
      "5.1\n",
      "5.2\n",
      "5.3\n",
      "5.4\n",
      "5.5\n",
      "5.6\n",
      "5.7\n",
      "5.8\n",
      "5.9\n",
      "6.0\n",
      "6.1\n",
      "6.199999999999999\n",
      "6.300000000000001\n",
      "6.4\n",
      "6.5\n",
      "6.6\n",
      "6.699999999999999\n",
      "6.800000000000001\n",
      "6.9\n",
      "7.0\n",
      "7.1\n",
      "7.199999999999999\n",
      "7.300000000000001\n",
      "7.4\n",
      "7.5\n",
      "7.6\n",
      "7.699999999999999\n",
      "7.800000000000001\n",
      "7.9\n",
      "8.0\n",
      "8.1\n",
      "8.2\n",
      "8.3\n",
      "8.4\n",
      "8.5\n",
      "8.6\n",
      "8.7\n",
      "8.8\n",
      "8.9\n",
      "9.0\n",
      "9.1\n",
      "9.2\n",
      "9.3\n",
      "9.4\n",
      "9.5\n",
      "9.6\n",
      "9.7\n",
      "9.8\n",
      "9.9\n"
     ]
    }
   ],
   "source": [
    "for i in range(1, 120):\n",
    "    print(i/10.0 - 2)"
   ]
  },
  {
   "cell_type": "code",
   "execution_count": 10,
   "metadata": {},
   "outputs": [
    {
     "data": {
      "image/png": "[encoded data removed]",
      "text/plain": [
       "<matplotlib.figure.Figure at 0x14f72df2ac8>"
      ]
     },
     "metadata": {},
     "output_type": "display_data"
    }
   ],
   "source": [
    "for i in range(1, 120):\n",
    "    plt.plot(i/5.0 - 2, model(logit, i/5.0 - 2), 'ro', color='green')\n",
    "    \n",
    "plt.plot(x1, y1, 'ro', color='red')\n",
    "plt.plot(x2, y2, 'ro', color='blue')\n",
    "\n",
    "plt.axis([-2,10,-0.5,2])\n",
    "plt.show()"
   ]
  },
  {
   "cell_type": "code",
   "execution_count": 21,
   "metadata": {},
   "outputs": [
    {
     "name": "stdout",
     "output_type": "stream",
     "text": [
      "[[0.44082797 0.55917203]]\n"
     ]
    }
   ],
   "source": [
    "print(logit.predict_proba(4.3))"
   ]
  },
  {
   "cell_type": "code",
   "execution_count": null,
   "metadata": {
    "collapsed": true
   },
   "outputs": [],
   "source": []
  }
 ],
 "metadata": {
  "kernelspec": {
   "display_name": "Python 3",
   "language": "python",
   "name": "python3"
  },
  "language_info": {
   "codemirror_mode": {
    "name": "ipython",
    "version": 3
   },
   "file_extension": ".py",
   "mimetype": "text/x-python",
   "name": "python",
   "nbconvert_exporter": "python",
   "pygments_lexer": "ipython3",
   "version": "3.6.4"
  }
 },
 "nbformat": 4,
 "nbformat_minor": 2
}
