{
 "cells": [
  {
   "cell_type": "code",
   "execution_count": 1,
   "metadata": {},
   "outputs": [],
   "source": [
    "import numpy as np\n",
    "import matplotlib.pyplot as plt\n",
    "from scipy import stats"
   ]
  },
  {
   "cell_type": "code",
   "execution_count": 7,
   "metadata": {},
   "outputs": [],
   "source": [
    "sq_ft = np.array([150, 200, 250, 300, 350, 400, 600])\n",
    "price = np.array([6450, 7450, 8450, 9450, 11450, 15450, 18450])"
   ]
  },
  {
   "cell_type": "code",
   "execution_count": 8,
   "metadata": {
    "scrolled": true
   },
   "outputs": [
    {
     "name": "stdout",
     "output_type": "stream",
     "text": [
      "slope: 28.77659574468085\n",
      "intercept: 1771.8085106382969\n",
      "r_val: 0.9719406288636889\n",
      "p_value0.00024951059712838557\n",
      "stderr: 3.1145876782671236\n"
     ]
    }
   ],
   "source": [
    "slope, intercept, r_value, p_value, stderr = stats.linregress(sq_ft, price)\n",
    "print(\"slope: \"+str(slope)+\"\\nintercept: \"+str(intercept)+\"\\nr_val: \"+str(r_value)+\"\\np_value\"+str(p_value)+\"\\nstderr: \"+str(stderr))"
   ]
  },
  {
   "cell_type": "code",
   "execution_count": 9,
   "metadata": {},
   "outputs": [
    {
     "data": {
      "image/png": "[encoded data removed]",
      "text/plain": [
       "<matplotlib.figure.Figure at 0x21237c32048>"
      ]
     },
     "metadata": {},
     "output_type": "display_data"
    }
   ],
   "source": [
    "plt.plot(sq_ft, slope*sq_ft + intercept , c='b')\n",
    "plt.scatter(sq_ft, price, c='red', marker='*')\n",
    "plt.show()"
   ]
  },
  {
   "cell_type": "code",
   "execution_count": 10,
   "metadata": {},
   "outputs": [
    {
     "name": "stdout",
     "output_type": "stream",
     "text": [
      "0.9446685860359431\n"
     ]
    }
   ],
   "source": [
    "print(r_value ** 2)"
   ]
  },
  {
   "cell_type": "code",
   "execution_count": null,
   "metadata": {},
   "outputs": [],
   "source": [
    "new_x = "
   ]
  }
 ],
 "metadata": {
  "kernelspec": {
   "display_name": "Python 3",
   "language": "python",
   "name": "python3"
  },
  "language_info": {
   "codemirror_mode": {
    "name": "ipython",
    "version": 3
   },
   "file_extension": ".py",
   "mimetype": "text/x-python",
   "name": "python",
   "nbconvert_exporter": "python",
   "pygments_lexer": "ipython3",
   "version": "3.6.4"
  }
 },
 "nbformat": 4,
 "nbformat_minor": 2
}
